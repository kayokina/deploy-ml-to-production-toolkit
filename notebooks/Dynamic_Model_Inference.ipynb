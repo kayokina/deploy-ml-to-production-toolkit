{
 "cells": [
  {
   "cell_type": "markdown",
   "metadata": {},
   "source": [
    "## Dynamic Inference:\n",
    "Inference is the term used to describe the process of using a pre-trained model to make predictions for unseen data.\n",
    "Dynamic Inference is the term used to describe making predictions on demand, using a server. \n",
    "\n",
    "The tutorial below demonstrates how to serve our Lending Club model trained earlier using a low latency prediction servering system called **clipper** ([docs](http://clipper.ai/), [implementation](https://github.com/ucbrise/clipper)). **clipper** can be hosted on your favorite cloud provider or on-prem."
   ]
  },
  {
   "cell_type": "code",
   "execution_count": 1,
   "metadata": {},
   "outputs": [
    {
     "name": "stderr",
     "output_type": "stream",
     "text": [
      "18-08-16:22:43:45 INFO     [docker_container_manager.py:151] [default-cluster] Starting managed Redis instance in Docker\n"
     ]
    },
    {
     "name": "stdout",
     "output_type": "stream",
     "text": [
      "Start Clipper...\n"
     ]
    },
    {
     "name": "stderr",
     "output_type": "stream",
     "text": [
      "18-08-16:22:43:49 INFO     [docker_container_manager.py:229] [default-cluster] Metric Configuration Saved at /private/var/folders/kv/w56d6z9j4c79zvw8c8jsn6hw0000gn/T/tmp74l30e1z.yml\n",
      "18-08-16:22:43:50 INFO     [clipper_admin.py:138] [default-cluster] Clipper is running\n",
      "18-08-16:22:43:50 INFO     [clipper_admin.py:215] [default-cluster] Application xgboost-airlines was successfully registered\n"
     ]
    },
    {
     "name": "stdout",
     "output_type": "stream",
     "text": [
      "Register Clipper application...\n"
     ]
    }
   ],
   "source": [
    "import logging, xgboost as xgb, numpy as np\n",
    "from sklearn.metrics import mean_absolute_error\n",
    "import joblib\n",
    "import pandas as pd\n",
    "from datetime import datetime\n",
    "import pickle\n",
    "import time\n",
    "import matplotlib.pyplot as plt\n",
    "plt.show(block=True)\n",
    "\n",
    "from clipper_admin import ClipperConnection, DockerContainerManager\n",
    "clipper_conn = ClipperConnection(DockerContainerManager())\n",
    "print(\"Start Clipper...\")\n",
    "clipper_conn.start_clipper()\n",
    "print(\"Register Clipper application...\")\n",
    "clipper_conn.register_application('xgboost-airlines', 'doubles', 'default_pred', 100000)"
   ]
  },
  {
   "cell_type": "code",
   "execution_count": 2,
   "metadata": {},
   "outputs": [],
   "source": [
    "training_examples = pd.read_pickle(\"../data/processed/airlines_training_examples.pkl\")\n",
    "f1=open(\"../data/processed/airlines_training_targets.pkl\",'rb')\n",
    "training_targets = pickle.load(f1) \n",
    "f1.close()\n",
    "test_examples = pd.read_pickle(\"../data/processed/airlines_test_examples.pkl\")\n",
    "\n",
    "def get_train_points():\n",
    "     return training_examples.values.tolist()\n",
    "\n",
    "def get_test_points(start_row_index,end_row_index):\n",
    "    return test_examples.iloc[start_row_index:end_row_index].values.tolist()\n",
    "\n",
    "def get_test_point(row_index):\n",
    "     return test_examples.iloc[row_index].tolist()"
   ]
  },
  {
   "cell_type": "code",
   "execution_count": 3,
   "metadata": {},
   "outputs": [
    {
     "name": "stdout",
     "output_type": "stream",
     "text": [
      "[0]\ttrain-error:0.378541\n",
      "[1]\ttrain-error:0.368341\n"
     ]
    }
   ],
   "source": [
    "# Create a training matrix.\n",
    "dtrain = xgb.DMatrix(get_train_points(), label=training_targets)\n",
    "# We then create parameters, watchlist, and specify the number of rounds\n",
    "# This is code that we use to build our XGBoost Model, and your code may differ.\n",
    "param = {'max_depth': 2, 'eta': 1, 'silent': 1, 'objective': 'binary:logistic'}\n",
    "watchlist = [(dtrain, 'train')]\n",
    "num_round = 2\n",
    "bst = xgb.train(param, dtrain, num_round, watchlist)"
   ]
  },
  {
   "cell_type": "code",
   "execution_count": 4,
   "metadata": {},
   "outputs": [
    {
     "name": "stdout",
     "output_type": "stream",
     "text": [
      "Predict instances in test set using custom defined scoring function...\n"
     ]
    },
    {
     "data": {
      "text/plain": [
       "array([0.8778308 , 0.8778308 , 0.86350435, ..., 0.86350435, 0.8778308 ,\n",
       "       0.8778308 ], dtype=float32)"
      ]
     },
     "execution_count": 4,
     "metadata": {},
     "output_type": "execute_result"
    }
   ],
   "source": [
    "def predict(xs):\n",
    "    result = bst.predict(xgb.DMatrix(xs))\n",
    "    return result \n",
    "# make predictions\n",
    "predictions = predict(test_examples.values)\n",
    "print(\"Predict instances in test set using custom defined scoring function...\")\n",
    "predictions"
   ]
  },
  {
   "cell_type": "code",
   "execution_count": 5,
   "metadata": {},
   "outputs": [
    {
     "name": "stderr",
     "output_type": "stream",
     "text": [
      "18-08-16:22:43:52 INFO     [deployer_utils.py:41] Saving function to /var/folders/kv/w56d6z9j4c79zvw8c8jsn6hw0000gn/T/tmpessyhz0pclipper\n",
      "18-08-16:22:43:52 INFO     [deployer_utils.py:51] Serialized and supplied predict function\n",
      "18-08-16:22:43:52 INFO     [python.py:192] Python closure saved\n",
      "18-08-16:22:43:52 INFO     [python.py:206] Using Python 3.6 base image\n",
      "18-08-16:22:43:52 INFO     [clipper_admin.py:467] [default-cluster] Building model Docker image with model data from /var/folders/kv/w56d6z9j4c79zvw8c8jsn6hw0000gn/T/tmpessyhz0pclipper\n"
     ]
    },
    {
     "name": "stdout",
     "output_type": "stream",
     "text": [
      "Deploy predict function closure using Clipper...\n"
     ]
    },
    {
     "name": "stderr",
     "output_type": "stream",
     "text": [
      "18-08-16:22:43:53 INFO     [clipper_admin.py:472] [default-cluster] Step 1/3 : FROM clipper/python36-closure-container:develop\n",
      "18-08-16:22:43:53 INFO     [clipper_admin.py:472] [default-cluster]  ---> 0fac6e6e8242\n",
      "18-08-16:22:43:53 INFO     [clipper_admin.py:472] [default-cluster] Step 2/3 : RUN apt-get -y install build-essential && pip install xgboost\n",
      "18-08-16:22:43:53 INFO     [clipper_admin.py:472] [default-cluster]  ---> Using cache\n",
      "18-08-16:22:43:53 INFO     [clipper_admin.py:472] [default-cluster]  ---> 761b4e2e5cea\n",
      "18-08-16:22:43:53 INFO     [clipper_admin.py:472] [default-cluster] Step 3/3 : COPY /var/folders/kv/w56d6z9j4c79zvw8c8jsn6hw0000gn/T/tmpessyhz0pclipper /model/\n",
      "18-08-16:22:43:53 INFO     [clipper_admin.py:472] [default-cluster]  ---> e271dde65415\n",
      "18-08-16:22:43:53 INFO     [clipper_admin.py:472] [default-cluster] Successfully built e271dde65415\n",
      "18-08-16:22:43:53 INFO     [clipper_admin.py:472] [default-cluster] Successfully tagged default-cluster-xgboost-model:1\n",
      "18-08-16:22:43:53 INFO     [clipper_admin.py:474] [default-cluster] Pushing model Docker image to default-cluster-xgboost-model:1\n",
      "18-08-16:22:43:54 INFO     [docker_container_manager.py:353] [default-cluster] Found 0 replicas for xgboost-model:1. Adding 1\n",
      "18-08-16:22:44:01 INFO     [clipper_admin.py:651] [default-cluster] Successfully registered model xgboost-model:1\n",
      "18-08-16:22:44:01 INFO     [clipper_admin.py:569] [default-cluster] Done deploying model xgboost-model:1.\n"
     ]
    }
   ],
   "source": [
    "from clipper_admin.deployers import python as python_deployer\n",
    "# We specify which packages to install in the pkgs_to_install arg.\n",
    "# For example, if we wanted to install xgboost and psycopg2, we would use\n",
    "# pkgs_to_install = ['xgboost', 'psycopg2']\n",
    "print(\"Deploy predict function closure using Clipper...\")\n",
    "python_deployer.deploy_python_closure(clipper_conn, name='xgboost-model', version=1,\n",
    "    input_type=\"doubles\", func=predict, pkgs_to_install=['xgboost'])"
   ]
  },
  {
   "cell_type": "code",
   "execution_count": 6,
   "metadata": {},
   "outputs": [
    {
     "name": "stderr",
     "output_type": "stream",
     "text": [
      "18-08-16:22:44:01 INFO     [clipper_admin.py:277] [default-cluster] Model xgboost-model is now linked to application xgboost-airlines\n"
     ]
    },
    {
     "name": "stdout",
     "output_type": "stream",
     "text": [
      "Link Clipper connection to model application...\n"
     ]
    }
   ],
   "source": [
    "print(\"Link Clipper connection to model application...\")\n",
    "clipper_conn.link_model_to_app('xgboost-airlines', 'xgboost-model')"
   ]
  },
  {
   "cell_type": "code",
   "execution_count": 7,
   "metadata": {},
   "outputs": [
    {
     "name": "stdout",
     "output_type": "stream",
     "text": [
      "Model predict for a single instance via Python requests POST request & parse response...\n"
     ]
    },
    {
     "data": {
      "text/plain": [
       "{'query_id': 0, 'output': 0.8778308, 'default': False}"
      ]
     },
     "execution_count": 7,
     "metadata": {},
     "output_type": "execute_result"
    }
   ],
   "source": [
    "import requests, json\n",
    "# Get Address\n",
    "addr = clipper_conn.get_query_addr()\n",
    "print(\"Model predict for a single instance via Python requests POST request & parse response...\")\n",
    "\n",
    "# Post Query\n",
    "response = requests.post(\n",
    "     \"http://%s/%s/predict\" % (addr, 'xgboost-airlines'),\n",
    "     headers={\"Content-type\": \"application/json\"},\n",
    "     data=json.dumps({\n",
    "         'input': get_test_point(0)\n",
    "     }))\n",
    "result = response.json() \n",
    "result"
   ]
  },
  {
   "cell_type": "code",
   "execution_count": 8,
   "metadata": {},
   "outputs": [
    {
     "name": "stdout",
     "output_type": "stream",
     "text": [
      "Model predict for a single instance via Python requests POST request...\n"
     ]
    },
    {
     "data": {
      "text/plain": [
       "{'query_id': 1, 'output': 0.8778308, 'default': False}"
      ]
     },
     "execution_count": 8,
     "metadata": {},
     "output_type": "execute_result"
    }
   ],
   "source": [
    "import requests, json, numpy as np\n",
    "print(\"Model predict for a single instance via Python requests POST request...\")\n",
    "headers = {\"Content-type\": \"application/json\"}\n",
    "requests.post(\"http://localhost:1337/xgboost-airlines/predict\", headers=headers, data=json.dumps({\"input\": get_test_point(0)})).json()"
   ]
  },
  {
   "cell_type": "code",
   "execution_count": 9,
   "metadata": {},
   "outputs": [
    {
     "name": "stdout",
     "output_type": "stream",
     "text": [
      "Model predict for a batch of instances via Python requests POST request...\n"
     ]
    },
    {
     "data": {
      "text/plain": [
       "{'batch_predictions': [{'query_id': 2, 'output': 0.8778308, 'default': False},\n",
       "  {'query_id': 3, 'output': 0.8778308, 'default': False}]}"
      ]
     },
     "execution_count": 9,
     "metadata": {},
     "output_type": "execute_result"
    }
   ],
   "source": [
    "import requests, json, numpy as np\n",
    "print(\"Model predict for a batch of instances via Python requests POST request...\")\n",
    "headers = {\"Content-type\": \"application/json\"}\n",
    "requests.post(\"http://localhost:1337/xgboost-airlines/predict\", headers=headers, data=json.dumps({\"input_batch\": get_test_points(0,2)})).json()"
   ]
  },
  {
   "cell_type": "code",
   "execution_count": 10,
   "metadata": {},
   "outputs": [
    {
     "name": "stdout",
     "output_type": "stream",
     "text": [
      "Model predict for a single instance via curl...\n",
      "{\"query_id\":4,\"output\":\"default_pred\",\"default\":true,\"default_explanation\":\"Failed to retrieve a prediction response within the specified latency SLO\"}"
     ]
    }
   ],
   "source": [
    "get_test_point(0)\n",
    "print(\"Model predict for a single instance via curl...\")\n",
    "!curl -X POST --header \"Content-Type:application/json\" -d '{\"input\": [16.0, 1995.0, 1.0, 1.0, 257.0, 1670.0, 0.0, 0.0, 0.0, 0.0, 0.0, 0.0, 0.0, 0.0, 1.0, 0.0, 0.0, 0.0, 0.0, 0.0, 0.0, 0.0, 0.0, 0.0, 0.0, 0.0, 0.0, 0.0, 0.0, 0.0, 0.0, 0.0, 0.0, 0.0, 0.0, 0.0, 0.0, 0.0, 0.0, 0.0, 0.0, 0.0, 0.0, 0.0, 0.0, 0.0, 0.0, 0.0, 0.0, 0.0, 0.0, 0.0, 0.0, 0.0, 0.0, 0.0, 0.0, 0.0, 0.0, 0.0, 0.0, 0.0, 0.0, 0.0, 0.0, 0.0, 0.0, 0.0, 0.0, 0.0, 0.0, 0.0, 0.0, 0.0, 0.0, 0.0, 0.0, 0.0, 0.0, 0.0, 0.0, 0.0, 0.0, 0.0, 0.0, 0.0, 0.0, 0.0, 0.0, 0.0, 0.0, 0.0, 0.0, 0.0, 0.0, 0.0, 0.0, 0.0, 0.0, 0.0, 0.0, 0.0, 0.0, 0.0, 0.0, 0.0, 0.0, 0.0, 0.0, 0.0, 0.0, 0.0, 0.0, 0.0, 0.0, 1.0, 0.0, 0.0, 0.0, 0.0, 0.0, 0.0, 0.0, 0.0, 0.0, 0.0, 0.0, 0.0, 0.0, 0.0, 0.0, 0.0, 0.0, 0.0, 0.0, 0.0, 0.0, 0.0, 0.0, 0.0, 0.0, 0.0, 0.0, 0.0, 0.0, 0.0, 0.0, 0.0, 0.0, 0.0, 0.0, 0.0, 0.0, 0.0, 0.0, 0.0, 0.0, 0.0, 0.0, 0.0, 0.0, 0.0, 0.0, 0.0, 0.0, 0.0, 0.0, 0.0, 0.0, 0.0, 0.0, 0.0, 0.0, 0.0, 0.0, 0.0, 0.0, 0.0, 0.0, 0.0, 0.0, 0.0, 0.0, 0.0, 0.0, 0.0, 0.0, 0.0, 0.0, 0.0, 0.0, 0.0, 0.0, 0.0, 0.0, 0.0, 0.0, 0.0, 0.0, 0.0, 0.0, 0.0, 0.0, 0.0, 0.0, 0.0, 0.0, 0.0, 0.0, 0.0, 0.0, 0.0, 0.0, 0.0, 0.0, 0.0, 0.0, 0.0, 0.0, 0.0, 0.0, 0.0, 0.0, 0.0, 0.0, 0.0, 0.0, 0.0, 0.0, 0.0, 0.0, 0.0, 0.0, 0.0, 0.0, 0.0, 0.0, 0.0, 0.0, 0.0, 0.0, 0.0, 0.0, 0.0, 0.0, 0.0, 0.0, 0.0, 0.0, 0.0, 0.0, 0.0, 0.0, 0.0, 1.0, 0.0, 0.0, 0.0, 0.0, 0.0, 0.0, 0.0, 0.0, 0.0, 0.0, 0.0, 0.0, 0.0, 0.0, 0.0, 0.0, 0.0, 0.0, 0.0, 0.0, 0.0, 0.0, 0.0, 0.0, 0.0, 0.0, 0.0]}' 127.0.0.1:1337/xgboost-airlines/predict"
   ]
  },
  {
   "cell_type": "markdown",
   "metadata": {},
   "source": [
    "If you want to get details..."
   ]
  },
  {
   "cell_type": "code",
   "execution_count": 11,
   "metadata": {},
   "outputs": [],
   "source": [
    "# todo: insert link to clipper troubleshooting\n",
    "# clipper_conn.inspect_instance()\n",
    "# clipper_conn.get_clipper_logs()"
   ]
  },
  {
   "cell_type": "code",
   "execution_count": 12,
   "metadata": {},
   "outputs": [
    {
     "name": "stdout",
     "output_type": "stream",
     "text": [
      "Shutting down Clipper connection.\n"
     ]
    },
    {
     "name": "stderr",
     "output_type": "stream",
     "text": [
      "18-08-16:23:17:52 INFO     [clipper_admin.py:1278] [default-cluster] Stopped all Clipper cluster and all model containers\n"
     ]
    }
   ],
   "source": [
    "print(\"Shutting down Clipper connection.\")\n",
    "clipper_conn.stop_all()"
   ]
  },
  {
   "cell_type": "code",
   "execution_count": 13,
   "metadata": {},
   "outputs": [
    {
     "name": "stdout",
     "output_type": "stream",
     "text": [
      "32d06b2599e6\r\n",
      "52087d45eecc\r\n",
      "b145c468af6a\r\n",
      "502fa77bee03\r\n",
      "2c859fbc9709\r\n",
      "13877d0f7df0\r\n"
     ]
    }
   ],
   "source": [
    "# stop all containers:\n",
    "!docker rm $(docker ps -a -q)"
   ]
  },
  {
   "cell_type": "code",
   "execution_count": null,
   "metadata": {},
   "outputs": [],
   "source": [
    "!docker ps"
   ]
  },
  {
   "cell_type": "code",
   "execution_count": null,
   "metadata": {},
   "outputs": [],
   "source": [
    "# stop all containers:\n",
    "# docker kill $(docker ps -q)\n",
    "\n",
    "# remove all containers\n",
    "# !docker rm $(docker ps -a -q)\n",
    "\n",
    "# remove all docker images\n",
    "# docker rmi $(docker images -q)"
   ]
  },
  {
   "cell_type": "code",
   "execution_count": null,
   "metadata": {},
   "outputs": [],
   "source": []
  }
 ],
 "metadata": {
  "kernelspec": {
   "display_name": "Python 3",
   "language": "python",
   "name": "python3"
  },
  "language_info": {
   "codemirror_mode": {
    "name": "ipython",
    "version": 3
   },
   "file_extension": ".py",
   "mimetype": "text/x-python",
   "name": "python",
   "nbconvert_exporter": "python",
   "pygments_lexer": "ipython3",
   "version": "3.6.5"
  }
 },
 "nbformat": 4,
 "nbformat_minor": 2
}
