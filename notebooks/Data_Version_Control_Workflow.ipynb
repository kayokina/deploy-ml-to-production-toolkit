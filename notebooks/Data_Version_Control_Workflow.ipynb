{
 "cells": [
  {
   "cell_type": "markdown",
   "metadata": {},
   "source": [
    "## Data Versioning Example"
   ]
  },
  {
   "cell_type": "code",
   "execution_count": 1,
   "metadata": {},
   "outputs": [
    {
     "name": "stdout",
     "output_type": "stream",
     "text": [
      "Saving '../data/external/allyears2k.csv' to cache '../.dvc/cache'.\u001b[0m\r\n",
      "Saving information to '../data/external/allyears2k.csv.dvc'.\u001b[0m\r\n",
      "\u001b[0m"
     ]
    }
   ],
   "source": [
    "!dvc add ../data/external/allyears2k.csv"
   ]
  },
  {
   "cell_type": "code",
   "execution_count": 2,
   "metadata": {},
   "outputs": [
    {
     "name": "stdout",
     "output_type": "stream",
     "text": [
      "Running command:\n",
      "\tpython ../src/models/Static_Model_Pitfalls_of_Model_Development.py\u001b[0m\n",
      "numpy: 1.14.3\n",
      "pandas: 0.23.0\n",
      "sklearn: 0.19.1\n",
      "xgboost: 0.72\n",
      "\n",
      "Label Encode Target into Integers...\n",
      "\n",
      "Get Training Data...\n",
      "Original shape: (43978, 31)\n",
      "After columns dropped shape: (43978, 13)\n",
      "\n",
      "Naive One-Hot-Encode for features: ['UniqueCarrier', 'Dest', 'Origin']\n",
      "\n",
      "Total number of features before encoding: 13\n",
      "\n",
      "Total number of features after encoding: 286\n",
      "\n",
      "Label Encode Target into Integers...\n",
      "\n",
      "Get Training Data...\n",
      "Original shape: (43978, 31)\n",
      "After columns dropped shape: (43978, 13)\n",
      "\n",
      "Naive One-Hot-Encode for features: ['UniqueCarrier', 'Dest', 'Origin']\n",
      "\n",
      "Total number of features before encoding: 13\n",
      "\n",
      "Total number of features after encoding: 286\n",
      "[23:56:50] src/tree/updater_prune.cc:74: tree pruning end, 1 roots, 50 extra nodes, 0 pruned nodes, max_depth=5\n",
      "[0]\ttrain-error:0.348395\n",
      "[23:56:50] src/tree/updater_prune.cc:74: tree pruning end, 1 roots, 48 extra nodes, 0 pruned nodes, max_depth=5\n",
      "[1]\ttrain-error:0.345861\n",
      "\n",
      "Feature Importances...\n",
      "\n",
      "Feature Importances {'DayofMonth': 4, 'Year': 7, 'CRSArrTime': 9, 'Distance': 4, 'Cancelled': 6, 'UniqueCarrier__HP': 3, 'CRSElapsedTime': 9, 'CRSDepTime': 2, 'Dest__BWI': 1, 'UniqueCarrier__WN': 1, 'Origin__MDW': 1, 'Origin__JAX': 1, 'Origin__HNL': 1}\n",
      "Accuracy: 64.87%\n",
      "\n",
      "Confusion Matrix...\n",
      "[[3442 2826]\n",
      " [1809 5117]]\n",
      "\n",
      "Classification Report...\n",
      "             precision    recall  f1-score   support\n",
      "\n",
      "          0       0.66      0.55      0.60      6268\n",
      "          1       0.64      0.74      0.69      6926\n",
      "\n",
      "avg / total       0.65      0.65      0.65     13194\n",
      "\n",
      "Finished saving training design matrix: ../data/processed/airlines_training_examples.pkl\n",
      "Finished saving training targets: ../data/processed/airlines_training_targets.pkl\n",
      "Finished saving test design matrix: ../data/processed/airlines_training_examples.pkl\n",
      "Finished saving test targets: ../data/processed/airlines_training_targets.pkl\n",
      "Pipeline Completed\n",
      "Saving '../data/processed' to cache '../.dvc/cache'.\u001b[0m\n",
      "Saving information to 'processed.dvc'.\u001b[0m\n",
      "\u001b[0m^C\n"
     ]
    }
   ],
   "source": [
    "!yes | dvc run -d ../src/models/Static_Model_Pitfalls_of_Model_Development.py -d ../data/external/allyears2k.csv \\\n",
    "              -o ../data/processed/ \\\n",
    "              python ../src/models/Static_Model_Pitfalls_of_Model_Development.py"
   ]
  },
  {
   "cell_type": "code",
   "execution_count": 3,
   "metadata": {
    "scrolled": true
   },
   "outputs": [
    {
     "name": "stdout",
     "output_type": "stream",
     "text": [
      "total 32032\r\n",
      "-rw-r--r--  2 arm  staff      1701 Aug  9 00:39 baseline_model.log\r\n",
      "-rw-r--r--  2 arm  staff       656 Aug 16 23:19 dynamic_model_inference.log\r\n",
      "-rw-r--r--  8 arm  staff     10846 Aug 16 23:59 model_xgboost\r\n",
      "-rw-r--r--  2 arm  staff  11211055 Aug 16 23:59 airlines_training_examples.pkl\r\n",
      "-rw-r--r--  8 arm  staff   4808295 Aug 16 23:59 airlines_test_examples.pkl\r\n",
      "-rw-r--r--  2 arm  staff    246431 Aug 16 23:59 airlines_training_targets.pkl\r\n",
      "-rw-r--r--  8 arm  staff    105711 Aug 16 23:59 airlines_test_targets.pkl\r\n"
     ]
    }
   ],
   "source": [
    "!ls -ltr ../data/processed/"
   ]
  },
  {
   "cell_type": "code",
   "execution_count": null,
   "metadata": {},
   "outputs": [],
   "source": [
    "!dvc repro processed.dvc"
   ]
  },
  {
   "cell_type": "code",
   "execution_count": null,
   "metadata": {},
   "outputs": [],
   "source": []
  }
 ],
 "metadata": {
  "kernelspec": {
   "display_name": "Python 3",
   "language": "python",
   "name": "python3"
  },
  "language_info": {
   "codemirror_mode": {
    "name": "ipython",
    "version": 3
   },
   "file_extension": ".py",
   "mimetype": "text/x-python",
   "name": "python",
   "nbconvert_exporter": "python",
   "pygments_lexer": "ipython3",
   "version": "3.6.5"
  }
 },
 "nbformat": 4,
 "nbformat_minor": 2
}
